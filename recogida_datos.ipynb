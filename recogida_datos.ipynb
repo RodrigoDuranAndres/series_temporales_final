{
 "cells": [
  {
   "cell_type": "code",
   "execution_count": 48,
   "metadata": {},
   "outputs": [
    {
     "name": "stdout",
     "output_type": "stream",
     "text": [
      "Datos guardados en madrid_clima.csv\n"
     ]
    }
   ],
   "source": [
    "from datetime import datetime\n",
    "from meteostat import Point, Daily\n",
    "import pandas as pd\n",
    "\n",
    "# Crear una lista para almacenar los DataFrames de cada año\n",
    "dataframes = []\n",
    "\n",
    "# Iterar sobre los años desde 2010 hasta 2020\n",
    "for year in range(1940, 2023):\n",
    "    # Establecer el período de tiempo para el año actual\n",
    "    start = datetime(year, 1, 1)\n",
    "    end = datetime(year, 12, 31)\n",
    "\n",
    "    # Crear un objeto Point para Madrid\n",
    "    madrid = Point(40.4334694, -3.6981501, 667)\n",
    "\n",
    "    # Obtener datos diarios para el año actual\n",
    "    data = Daily(madrid, start, end)\n",
    "    data = data.fetch()\n",
    "\n",
    "    # Agregar el DataFrame al la lista\n",
    "    dataframes.append(data)\n",
    "\n",
    "# Concatenar todos los DataFrames en uno solo\n",
    "result_data = pd.concat(dataframes)\n",
    "\n",
    "# Guardar los datos en un archivo CSV con el índice\n",
    "result_data.to_csv('./data/madrid_clima.csv')\n",
    "\n",
    "# Mostrar un mensaje cuando haya terminado\n",
    "print(\"Datos guardados en madrid_clima.csv\")\n"
   ]
  }
 ],
 "metadata": {
  "kernelspec": {
   "display_name": "Python 3",
   "language": "python",
   "name": "python3"
  },
  "language_info": {
   "codemirror_mode": {
    "name": "ipython",
    "version": 3
   },
   "file_extension": ".py",
   "mimetype": "text/x-python",
   "name": "python",
   "nbconvert_exporter": "python",
   "pygments_lexer": "ipython3",
   "version": "3.11.2"
  }
 },
 "nbformat": 4,
 "nbformat_minor": 2
}
